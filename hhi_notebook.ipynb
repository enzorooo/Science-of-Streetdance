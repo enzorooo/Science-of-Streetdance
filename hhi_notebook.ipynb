{
 "cells": [
  {
   "cell_type": "markdown",
   "metadata": {},
   "source": [
    "# Hip Hop International\n",
    "*Developer:* **Juan Lorenzo Mercado**\n",
    "\n",
    "This Data science project seeks to analyze the score cards of teams within dance competition Hip Hop International. It seeks to analyze how each teams throughout each stage of the competition. The project also serves as a exploratory analysis on insights that can be gathered based on the dataset extracted from the results of the competition.\n",
    "\n",
    "## What is Hip Hop International?\n",
    "Hip Hop International (HHI) is one of the world's largest dance competitions. The event hosts over four thousand dancers from all over the world to compete with one another to receive the competition's world title.(Hip Hop International, n.d.) It is often regarded as the world's olympic for streetdance as dance teams from all around the world gather and compete for this event annually.\n",
    "\n",
    "## Competition Divisions\n",
    "The competition currently has 5 divisions. The divisions are Junior Division, Varsity Division, Adult Division, MiniCrew Division, and MegaCrew Division. With teams competiting from various parts of the world.\n",
    "\n",
    "### Junior  Division\n",
    "The Junior division is composed of a minimum of 5 members to a maximum of 9 members. Each member of the team should be at least 7-12 years of age.\n",
    "\n",
    "### Varsity  Division\n",
    "The Varsity division is composed of a minimum of 5 members to a maximum of 9 members. Each member of the team should be at least 13-17 years of age.\n",
    "\n",
    "### Adult  Division\n",
    "The Adult division is composed of a minimum of 5 members to a maximum of 9 members. Each member of the team should be at least 18 years of age or above.\n",
    "\n",
    "### MiniCrew  Division\n",
    "The MiniCrew division is composed of a 3 members. With no age restrictions on who may compete.\n",
    "\n",
    "### MegaCrew  Division\n",
    "The MegaCrew Division is composed of a minimum of 10 members to a maximum of 40 members. With no age restrictions on who may compete.\n",
    "\n",
    "## Competition Flow\n",
    "Competiting teams in HHI go through 3 different stages of competition the Prelims, SemiFinals, Finals. At each stage, the total number of competiting teams are eliminated from the competition based on their ranking until the finals where a podium of 3 winners are determined (Champion, 1st Runner-Up, 2nd Runner-Up). \n",
    "\n",
    "##### References\n",
    "Hip Hop international. (n.d.). World hip hop dance championship. Hip Hop International. https://www.hiphopinternational.com/world-hip-hop-dance-championship/\n",
    "\n",
    "##### Database Resource\n",
    "1. *Hip Hop International (Results) -* http://www.hiphopinternational.com/medalists/"
   ]
  },
  {
   "cell_type": "code",
   "execution_count": 10,
   "metadata": {
    "scrolled": true
   },
   "outputs": [],
   "source": [
    "# import packages\n",
    "import pandas\n",
    "import numpy as np\n",
    "import bs4 as BeautifulSoup\n",
    "import requests\n",
    "import os.path\n",
    "import urllib.request\n"
   ]
  },
  {
   "cell_type": "code",
   "execution_count": null,
   "metadata": {},
   "outputs": [],
   "source": []
  }
 ],
 "metadata": {
  "kernelspec": {
   "display_name": "Python3 (hhi)",
   "language": "python",
   "name": "hhi"
  },
  "language_info": {
   "codemirror_mode": {
    "name": "ipython",
    "version": 3
   },
   "file_extension": ".py",
   "mimetype": "text/x-python",
   "name": "python",
   "nbconvert_exporter": "python",
   "pygments_lexer": "ipython3",
   "version": "3.8.0"
  }
 },
 "nbformat": 4,
 "nbformat_minor": 4
}
